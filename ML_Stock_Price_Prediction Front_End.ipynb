{
  "nbformat": 4,
  "nbformat_minor": 0,
  "metadata": {
    "colab": {
      "provenance": [],
      "collapsed_sections": [
        "vkE1Hh6RuG3z",
        "ilR_NqGMySv1",
        "bPQxHMxyZwCf",
        "SYflGjoldLar"
      ]
    },
    "kernelspec": {
      "name": "python3",
      "display_name": "Python 3"
    },
    "language_info": {
      "name": "python"
    }
  },
  "cells": [
    {
      "cell_type": "markdown",
      "source": [
        "# Streamlit"
      ],
      "metadata": {
        "id": "kcTDCzAdnqMd"
      }
    },
    {
      "cell_type": "code",
      "source": [
        "!pip install -q streamlit streamlit_extras kaleido"
      ],
      "metadata": {
        "id": "JbiXKS5AnrLK"
      },
      "execution_count": null,
      "outputs": []
    },
    {
      "cell_type": "code",
      "source": [
        "%%writefile test.py\n",
        "\n",
        "import streamlit as st\n",
        "import numpy as np\n",
        "import pandas as pd\n",
        "import matplotlib.pyplot as plt\n",
        "import yfinance as yf\n",
        "import tensorflow as tf\n",
        "from sklearn.preprocessing import MinMaxScaler\n",
        "import plotly.express as px\n",
        "import io\n",
        "from PIL import Image\n",
        "\n",
        "def sidebar():\n",
        "    with st.sidebar:\n",
        "        st.subheader(\"About\")\n",
        "        st.markdown(\"\"\"Welcome to LivePredict 📈, your go-to platform for real-time stock predictions! Select your\n",
        "        favorite stocks and get instant forecasts with continuously updated AI models. Perfect for all investors,\n",
        "        stay ahead of market trends and make informed decisions with LivePredict 📈!\"\"\")\n",
        "        st.write(\"\")\n",
        "        st.write(\"\")\n",
        "\n",
        "        st.markdown(\"<h1 style='font-style: italic; color: #A9A9A9;'>Settings</h1>\", unsafe_allow_html = True)\n",
        "        st.write(\"\")\n",
        "        selected_stock = st.radio(\n",
        "        \"Pick a Stock\",\n",
        "        [\"ADANIENT.NS\", \"HDFCBANK.NS\", \"RELIANCE.NS\", \"SBIN.NS\", \"TCS.NS\"],\n",
        "        captions = [\"Adani Enterprises Limited\", \"HDFC Bank Limited\", \"Reliance Industries Limited\",\n",
        "                    \"State Bank of India\", \"Tata Consultancy Services Limited\"], index = None)\n",
        "\n",
        "        return selected_stock\n",
        "\n",
        "\n",
        "def main():\n",
        "    st.set_page_config(page_title = \"LivePredict・Streamlit\", page_icon = \"📈\")\n",
        "    stock = sidebar()\n",
        "    st.markdown(\"<h1 style='margin-bottom:-3%;'> <span style='color:#0000FF;'>Live</span><span style='color:#FF0000;'> Predict</span></h1>\", unsafe_allow_html=True)\n",
        "    st.markdown(\"<p style = 'padding-bottom: 2%'>📈 Real-Time Stock Forecasting at Your Fingertips</p>\", unsafe_allow_html = True)\n",
        "\n",
        "    if stock == \"ADANIENT.NS\":\n",
        "        regressor = tf.keras.models.load_model('AdaniENT_model.h5')\n",
        "    elif stock == \"HDFCBANK.NS\":\n",
        "        regressor = tf.keras.models.load_model('HDFC_model.h5')\n",
        "    elif stock == \"RELIANCE.NS\":\n",
        "        regressor = tf.keras.models.load_model('Reliance_model.h5')\n",
        "    elif stock == \"SBIN.NS\":\n",
        "        regressor = tf.keras.models.load_model('SBI_model.h5')\n",
        "    elif stock == \"TCS.NS\":\n",
        "        regressor = tf.keras.models.load_model('TCS_model.h5')\n",
        "\n",
        "    if stock is not None:\n",
        "        with st.spinner(\"Generating Content... This may take a while ⏳\"):\n",
        "            ticker = yf.Ticker(stock)\n",
        "            dataset = ticker.history(period = \"max\").iloc[:, 0:1].values\n",
        "\n",
        "            sc = MinMaxScaler(feature_range = (0, 1))\n",
        "            dataset_scaled = sc.fit_transform(dataset[:len(dataset) - 60])\n",
        "\n",
        "            inputs = dataset[len(dataset) - 60:]\n",
        "            inputs = sc.transform(inputs)\n",
        "            preds = []\n",
        "\n",
        "            for i in range(60, 90):\n",
        "                X_test = []\n",
        "                X_test.append(inputs[i - 60 : i, 0])\n",
        "                X_test = np.array(X_test)\n",
        "                X_test = np.reshape(X_test, (X_test.shape[0], X_test.shape[1], 1))\n",
        "\n",
        "                predicted_stock_price_scaled = regressor.predict(X_test)\n",
        "                predicted_stock_price = sc.inverse_transform(predicted_stock_price_scaled)[0][0]\n",
        "                preds.append(predicted_stock_price)\n",
        "\n",
        "                inputs = np.concatenate((inputs, predicted_stock_price_scaled), axis = 0)\n",
        "\n",
        "            line = pd.DataFrame(np.concatenate((dataset[len(dataset) - 60:],\n",
        "                                                np.expand_dims(np.array(preds), axis = 1)), axis = 0), columns = [\"Value\"])\n",
        "\n",
        "            sep = []\n",
        "            for i in range(len(line)):\n",
        "                if i < 60:\n",
        "                    sep.append(\"Current\")\n",
        "                else:\n",
        "                    sep.append(\"Forecasted\")\n",
        "            line['Trend'] = sep\n",
        "\n",
        "            fig = px.line(line, x = line.index, y = 'Value', color = 'Trend', markers = True,\n",
        "                        title = f\"{stock} Stock Price Prediction\")\n",
        "            fig.update_layout(xaxis_title = \"Time Period\", yaxis_title = \"Open Value (Rs.)\")\n",
        "            st.plotly_chart(fig, use_container_width = True, theme = None)\n",
        "\n",
        "            image = fig.to_image(format = 'png')\n",
        "            st.download_button(label = 'Download', data = image, file_name = \"image.png\")\n",
        "\n",
        "if __name__ == \"__main__\":\n",
        "    main()"
      ],
      "metadata": {
        "id": "PXomNUZ-ns1W"
      },
      "execution_count": null,
      "outputs": []
    },
    {
      "cell_type": "code",
      "source": [
        "!npm install localtunnel"
      ],
      "metadata": {
        "id": "AVnojZmIoiBH"
      },
      "execution_count": null,
      "outputs": []
    },
    {
      "cell_type": "code",
      "source": [
        "!streamlit run /content/test.py &>/content/logs.txt &"
      ],
      "metadata": {
        "id": "lNMK0h3CoiDb"
      },
      "execution_count": null,
      "outputs": []
    },
    {
      "cell_type": "code",
      "source": [
        "!npx localtunnel --port 8501"
      ],
      "metadata": {
        "id": "Z1PtHzzwoiFo"
      },
      "execution_count": null,
      "outputs": []
    },
    {
      "cell_type": "code",
      "source": [
        "# 34.16.198.43"
      ],
      "metadata": {
        "id": "gWWDnbIm4Mb6"
      },
      "execution_count": null,
      "outputs": []
    },
    {
      "cell_type": "code",
      "source": [
        "# ticker = yf.Ticker(\"RELIANCE.NS\")\n",
        "# dataset = ticker.history(period = \"max\").iloc[:, 0:1].values\n",
        "\n",
        "# sc = MinMaxScaler(feature_range = (0, 1))\n",
        "# dataset_scaled = sc.fit_transform(dataset[:len(dataset) - 60])\n",
        "# regressor = tf.keras.models.load_model('Reliance_model.h5')\n",
        "\n",
        "# inputs = dataset[len(dataset) - 60:]\n",
        "# inputs = sc.transform(inputs)\n",
        "# preds = []\n",
        "\n",
        "# for i in range(60, 90):\n",
        "#     X_test = []\n",
        "#     X_test.append(inputs[i - 60 : i, 0])\n",
        "#     X_test = np.array(X_test)\n",
        "#     X_test = np.reshape(X_test, (X_test.shape[0], X_test.shape[1], 1))\n",
        "#     print(X_test)\n",
        "\n",
        "#     predicted_stock_price_scaled = regressor.predict(X_test)\n",
        "#     predicted_stock_price = sc.inverse_transform(predicted_stock_price_scaled)[0][0]\n",
        "#     preds.append(predicted_stock_price)\n",
        "\n",
        "#     inputs = np.concatenate((inputs, predicted_stock_price_scaled), axis = 0)"
      ],
      "metadata": {
        "id": "Ddefc-c98V73"
      },
      "execution_count": null,
      "outputs": []
    },
    {
      "cell_type": "code",
      "source": [
        "# line = pd.DataFrame(np.concatenate((dataset[len(dataset) - 60:],\n",
        "#                                             np.expand_dims(np.array(preds), axis = 1)), axis = 0), columns = [\"Value\"])\n",
        "\n",
        "# sep = []\n",
        "# for i in range(len(line)):\n",
        "#     if i < 60:\n",
        "#         sep.append(\"Current\")\n",
        "#     else:\n",
        "#         sep.append(\"Forecasted\")\n",
        "# line['Trend'] = sep\n",
        "\n",
        "# fig = px.line(line, x = line.index, y = 'Value', color = 'Trend', markers = True,\n",
        "#                 title = f\"{stock} Stock Price Prediction\")\n",
        "# fig.show()"
      ],
      "metadata": {
        "id": "62tqSmsWFTi0"
      },
      "execution_count": null,
      "outputs": []
    }
  ]
}