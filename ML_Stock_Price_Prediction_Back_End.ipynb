{
  "cells": [
    {
      "cell_type": "markdown",
      "metadata": {
        "id": "vkE1Hh6RuG3z"
      },
      "source": [
        "# Installing and Importing Necessary Libraries"
      ]
    },
    {
      "cell_type": "code",
      "execution_count": null,
      "metadata": {
        "id": "nY8qaxh91j7X"
      },
      "outputs": [],
      "source": [
        "import numpy as np\n",
        "import pandas as pd\n",
        "import matplotlib.pyplot as plt\n",
        "import yfinance as yf"
      ]
    },
    {
      "cell_type": "markdown",
      "metadata": {
        "id": "ilR_NqGMySv1"
      },
      "source": [
        "# Loading the Dataset"
      ]
    },
    {
      "cell_type": "markdown",
      "metadata": {
        "id": "7uLksFqkQn28"
      },
      "source": [
        "Reliance"
      ]
    },
    {
      "cell_type": "code",
      "execution_count": null,
      "metadata": {
        "id": "ljOBYUPnQXAI"
      },
      "outputs": [],
      "source": [
        "stock = \"RELIANCE.NS\"\n",
        "ticker = yf.Ticker(stock)\n",
        "dataset = ticker.history(period = \"max\").iloc[:, 0:1].values"
      ]
    },
    {
      "cell_type": "code",
      "execution_count": null,
      "metadata": {
        "id": "Ejugkw3BQeER"
      },
      "outputs": [],
      "source": [
        "training_set = dataset[:int(0.8 * dataset.shape[0])]\n",
        "test_set = dataset[int(0.8 * dataset.shape[0]):]"
      ]
    },
    {
      "cell_type": "code",
      "execution_count": null,
      "metadata": {
        "id": "6Jqr9uN1QbV_"
      },
      "outputs": [],
      "source": [
        "from sklearn.preprocessing import MinMaxScaler\n",
        "sc = MinMaxScaler(feature_range = (0, 1))\n",
        "training_set_scaled = sc.fit_transform(training_set)"
      ]
    },
    {
      "cell_type": "code",
      "execution_count": null,
      "metadata": {
        "id": "F2JdIc5wQhzD"
      },
      "outputs": [],
      "source": [
        "X_train = []\n",
        "y_train = []\n",
        "for i in range(60, training_set_scaled.shape[0]):\n",
        "    X_train.append(training_set_scaled[i - 60 : i, 0])\n",
        "    y_train.append(training_set_scaled[i, 0])\n",
        "\n",
        "X_train, y_train = np.array(X_train), np.array(y_train)"
      ]
    },
    {
      "cell_type": "code",
      "execution_count": null,
      "metadata": {
        "id": "HBPPbuCEQkXf"
      },
      "outputs": [],
      "source": [
        "X_train = np.reshape(X_train, (X_train.shape[0], X_train.shape[1], 1))"
      ]
    },
    {
      "cell_type": "code",
      "execution_count": null,
      "metadata": {
        "id": "6A2UYM9AQv7z"
      },
      "outputs": [],
      "source": [
        "from keras.models import Sequential\n",
        "from keras.layers import Dense\n",
        "from keras.layers import LSTM\n",
        "from keras.layers import Dropout"
      ]
    },
    {
      "cell_type": "code",
      "execution_count": null,
      "metadata": {
        "id": "jDJKrMAhQxT_"
      },
      "outputs": [],
      "source": [
        "regressor = Sequential()\n",
        "regressor.add(LSTM(units = 64, return_sequences = True, input_shape = (X_train.shape[1], 1)))\n",
        "regressor.add(Dropout(0.2))\n",
        "#regressor.add(LSTM(units = 64, return_sequences = True))\n",
        "#regressor.add(Dropout(0.2))\n",
        "#regressor.add(LSTM(units = 32, return_sequences = True))\n",
        "#regressor.add(Dropout(0.2))\n",
        "regressor.add(LSTM(units = 64))\n",
        "regressor.add(Dropout(0.2))\n",
        "regressor.add(Dense(units = 1))"
      ]
    },
    {
      "cell_type": "code",
      "execution_count": null,
      "metadata": {
        "id": "Xae3qNpQQzPF"
      },
      "outputs": [],
      "source": [
        "regressor.compile(optimizer = 'adam', loss = 'mean_squared_error')"
      ]
    },
    {
      "cell_type": "code",
      "execution_count": null,
      "metadata": {
        "colab": {
          "base_uri": "https://localhost:8080/"
        },
        "id": "RsIk5xYlQ03T",
        "outputId": "f70b4710-c023-4c58-fbdb-8a5ea143297d"
      },
      "outputs": [
        {
          "name": "stdout",
          "output_type": "stream",
          "text": [
            "Epoch 1/10\n",
            "178/178 [==============================] - 15s 61ms/step - loss: 0.0024\n",
            "Epoch 2/10\n",
            "178/178 [==============================] - 11s 61ms/step - loss: 7.1989e-04\n",
            "Epoch 3/10\n",
            "178/178 [==============================] - 10s 54ms/step - loss: 6.7912e-04\n",
            "Epoch 4/10\n",
            "178/178 [==============================] - 11s 61ms/step - loss: 6.3035e-04\n",
            "Epoch 5/10\n",
            "178/178 [==============================] - 11s 62ms/step - loss: 5.2166e-04\n",
            "Epoch 6/10\n",
            "178/178 [==============================] - 11s 61ms/step - loss: 5.1589e-04\n",
            "Epoch 7/10\n",
            "178/178 [==============================] - 13s 74ms/step - loss: 5.2747e-04\n",
            "Epoch 8/10\n",
            "178/178 [==============================] - 11s 60ms/step - loss: 4.6810e-04\n",
            "Epoch 9/10\n",
            "178/178 [==============================] - 10s 57ms/step - loss: 4.2376e-04\n",
            "Epoch 10/10\n",
            "178/178 [==============================] - 11s 62ms/step - loss: 4.1847e-04\n"
          ]
        },
        {
          "data": {
            "text/plain": [
              "<keras.src.callbacks.History at 0x7e1c6478dcc0>"
            ]
          },
          "execution_count": 24,
          "metadata": {},
          "output_type": "execute_result"
        }
      ],
      "source": [
        "regressor.fit(X_train, y_train, epochs = 10, batch_size = 32)"
      ]
    },
    {
      "cell_type": "code",
      "execution_count": null,
      "metadata": {
        "id": "cOWCpoZ4Q7NC"
      },
      "outputs": [],
      "source": [
        "inputs = dataset[len(dataset) - len(test_set) - 60:]\n",
        "inputs = sc.transform(inputs)\n",
        "X_test = []\n",
        "for i in range(60, 120):\n",
        "    X_test.append(inputs[i - 60:i, 0])\n",
        "X_test = np.array(X_test)\n",
        "X_test = np.reshape(X_test, (X_test.shape[0], X_test.shape[1], 1))"
      ]
    },
    {
      "cell_type": "code",
      "execution_count": null,
      "metadata": {
        "colab": {
          "base_uri": "https://localhost:8080/"
        },
        "id": "QqaPYPPbQ9pb",
        "outputId": "c17e286a-8019-49b3-aabd-51dfbed1ea80"
      },
      "outputs": [
        {
          "name": "stdout",
          "output_type": "stream",
          "text": [
            "2/2 [==============================] - 1s 18ms/step\n"
          ]
        }
      ],
      "source": [
        "predicted_stock_price = regressor.predict(X_test)\n",
        "predicted_stock_price = sc.inverse_transform(predicted_stock_price)"
      ]
    },
    {
      "cell_type": "code",
      "execution_count": null,
      "metadata": {
        "colab": {
          "base_uri": "https://localhost:8080/"
        },
        "id": "DdQr_TToRFgl",
        "outputId": "f044716b-c317-4c97-d9fb-24cbb31f7736"
      },
      "outputs": [
        {
          "name": "stdout",
          "output_type": "stream",
          "text": [
            "(60, 1)\n",
            "(1434, 1)\n"
          ]
        }
      ],
      "source": [
        "print(predicted_stock_price.shape)\n",
        "print(test_set.shape)"
      ]
    },
    {
      "cell_type": "code",
      "execution_count": null,
      "metadata": {
        "colab": {
          "base_uri": "https://localhost:8080/",
          "height": 472
        },
        "id": "9Ks20SazRIL6",
        "outputId": "d6d8b98e-87e8-4798-cd7e-fd4fd8436f23"
      },
      "outputs": [
        {
          "data": {
            "image/png": "[encoded data removed]",
            "text/plain": [
              "<Figure size 640x480 with 1 Axes>"
            ]
          },
          "metadata": {},
          "output_type": "display_data"
        }
      ],
      "source": [
        "plt.plot(test_set[:60], color = 'red', label = 'Real Reliance Stock Price')\n",
        "plt.plot(predicted_stock_price, color = 'blue', label = 'Predicted Reliance Stock Price')\n",
        "plt.title('Reliance Stock Price Prediction')\n",
        "plt.xlabel('Time')\n",
        "plt.ylabel('Reliance Stock Price')\n",
        "plt.legend()\n",
        "plt.show()"
      ]
    },
    {
      "cell_type": "code",
      "execution_count": null,
      "metadata": {
        "colab": {
          "base_uri": "https://localhost:8080/"
        },
        "id": "PFgIW6-1938f",
        "outputId": "e7b92a92-fc46-4670-9de8-588e0d84e572"
      },
      "outputs": [
        {
          "name": "stderr",
          "output_type": "stream",
          "text": [
            "/usr/local/lib/python3.10/dist-packages/keras/src/engine/training.py:3103: UserWarning: You are saving your model as an HDF5 file via `model.save()`. This file format is considered legacy. We recommend using instead the native Keras format, e.g. `model.save('my_model.keras')`.\n",
            "  saving_api.save_model(\n"
          ]
        }
      ],
      "source": [
        "regressor.save('Reliance_model.h5')"
      ]
    },
    {
      "cell_type": "markdown",
      "metadata": {
        "id": "92CXrzG9_PH2"
      },
      "source": [
        "SBI"
      ]
    },
    {
      "cell_type": "code",
      "execution_count": null,
      "metadata": {
        "id": "mNgC2Vrk_1nn"
      },
      "outputs": [],
      "source": [
        "stock = \"SBIN.NS\"\n",
        "ticker = yf.Ticker(stock)\n",
        "dataset = ticker.history(period = \"max\").iloc[:, 0:1].values"
      ]
    },
    {
      "cell_type": "code",
      "execution_count": null,
      "metadata": {
        "id": "dwI9BVNb_1no"
      },
      "outputs": [],
      "source": [
        "training_set = dataset[:int(0.8 * dataset.shape[0])]\n",
        "test_set = dataset[int(0.8 * dataset.shape[0]):]"
      ]
    },
    {
      "cell_type": "code",
      "execution_count": null,
      "metadata": {
        "id": "Bds9rXhE_1no"
      },
      "outputs": [],
      "source": [
        "from sklearn.preprocessing import MinMaxScaler\n",
        "sc = MinMaxScaler(feature_range = (0, 1))\n",
        "training_set_scaled = sc.fit_transform(training_set)"
      ]
    },
    {
      "cell_type": "code",
      "execution_count": null,
      "metadata": {
        "id": "ddcMguH5_1no"
      },
      "outputs": [],
      "source": [
        "X_train = []\n",
        "y_train = []\n",
        "for i in range(60, training_set_scaled.shape[0]):\n",
        "    X_train.append(training_set_scaled[i - 60 : i, 0])\n",
        "    y_train.append(training_set_scaled[i, 0])\n",
        "\n",
        "X_train, y_train = np.array(X_train), np.array(y_train)"
      ]
    },
    {
      "cell_type": "code",
      "execution_count": null,
      "metadata": {
        "id": "8GZqXvrW_1np"
      },
      "outputs": [],
      "source": [
        "X_train = np.reshape(X_train, (X_train.shape[0], X_train.shape[1], 1))"
      ]
    },
    {
      "cell_type": "code",
      "execution_count": null,
      "metadata": {
        "id": "bJP32DMA_1np"
      },
      "outputs": [],
      "source": [
        "from keras.models import Sequential\n",
        "from keras.layers import Dense\n",
        "from keras.layers import LSTM\n",
        "from keras.layers import Dropout"
      ]
    },
    {
      "cell_type": "code",
      "execution_count": null,
      "metadata": {
        "id": "f5m5AZcn_1np"
      },
      "outputs": [],
      "source": [
        "regressor = Sequential()\n",
        "regressor.add(LSTM(units = 64, return_sequences = True, input_shape = (X_train.shape[1], 1)))\n",
        "regressor.add(Dropout(0.2))\n",
        "regressor.add(LSTM(units = 64, return_sequences = True))\n",
        "regressor.add(Dropout(0.2))\n",
        "#regressor.add(LSTM(units = 32, return_sequences = True))\n",
        "#regressor.add(Dropout(0.2))\n",
        "regressor.add(LSTM(units = 64))\n",
        "regressor.add(Dropout(0.2))\n",
        "regressor.add(Dense(units = 1))"
      ]
    },
    {
      "cell_type": "code",
      "execution_count": null,
      "metadata": {
        "id": "K5UDc1_Q_1np"
      },
      "outputs": [],
      "source": [
        "regressor.compile(optimizer = 'adam', loss = 'mean_squared_error')"
      ]
    },
    {
      "cell_type": "code",
      "execution_count": null,
      "metadata": {
        "colab": {
          "base_uri": "https://localhost:8080/"
        },
        "id": "mQdNmiR1_1np",
        "outputId": "590e14d7-241f-4dd9-afc8-8813b61aa2d3"
      },
      "outputs": [
        {
          "name": "stdout",
          "output_type": "stream",
          "text": [
            "Epoch 1/10\n",
            "178/178 [==============================] - 23s 91ms/step - loss: 0.0066\n",
            "Epoch 2/10\n",
            "178/178 [==============================] - 17s 96ms/step - loss: 0.0021\n",
            "Epoch 3/10\n",
            "178/178 [==============================] - 16s 92ms/step - loss: 0.0019\n",
            "Epoch 4/10\n",
            "178/178 [==============================] - 18s 100ms/step - loss: 0.0021\n",
            "Epoch 5/10\n",
            "178/178 [==============================] - 17s 93ms/step - loss: 0.0016\n",
            "Epoch 6/10\n",
            "178/178 [==============================] - 17s 93ms/step - loss: 0.0015\n",
            "Epoch 7/10\n",
            "178/178 [==============================] - 16s 92ms/step - loss: 0.0014\n",
            "Epoch 8/10\n",
            "178/178 [==============================] - 18s 102ms/step - loss: 0.0014\n",
            "Epoch 9/10\n",
            "178/178 [==============================] - 17s 93ms/step - loss: 0.0015\n",
            "Epoch 10/10\n",
            "178/178 [==============================] - 17s 93ms/step - loss: 0.0012\n"
          ]
        },
        {
          "data": {
            "text/plain": [
              "<keras.src.callbacks.History at 0x7e1c5e5155d0>"
            ]
          },
          "execution_count": 38,
          "metadata": {},
          "output_type": "execute_result"
        }
      ],
      "source": [
        "regressor.fit(X_train, y_train, epochs = 10, batch_size = 32)"
      ]
    },
    {
      "cell_type": "code",
      "execution_count": null,
      "metadata": {
        "id": "mKOTKHHh_1np"
      },
      "outputs": [],
      "source": [
        "inputs = dataset[len(dataset) - len(test_set) - 60:]\n",
        "inputs = sc.transform(inputs)\n",
        "X_test = []\n",
        "for i in range(60, 120):\n",
        "    X_test.append(inputs[i - 60:i, 0])\n",
        "X_test = np.array(X_test)\n",
        "X_test = np.reshape(X_test, (X_test.shape[0], X_test.shape[1], 1))"
      ]
    },
    {
      "cell_type": "code",
      "execution_count": null,
      "metadata": {
        "colab": {
          "base_uri": "https://localhost:8080/"
        },
        "id": "tuhlH5e9_1np",
        "outputId": "72d2496e-81a7-426a-8ec0-9e093ff7d110"
      },
      "outputs": [
        {
          "name": "stdout",
          "output_type": "stream",
          "text": [
            "2/2 [==============================] - 1s 25ms/step\n"
          ]
        }
      ],
      "source": [
        "predicted_stock_price = regressor.predict(X_test)\n",
        "predicted_stock_price = sc.inverse_transform(predicted_stock_price)"
      ]
    },
    {
      "cell_type": "code",
      "execution_count": null,
      "metadata": {
        "colab": {
          "base_uri": "https://localhost:8080/"
        },
        "id": "cfaLm5Uz_1nq",
        "outputId": "62f5cbd3-e1b5-4797-b4b3-221fb4712ab0"
      },
      "outputs": [
        {
          "name": "stdout",
          "output_type": "stream",
          "text": [
            "(60, 1)\n",
            "(1434, 1)\n"
          ]
        }
      ],
      "source": [
        "print(predicted_stock_price.shape)\n",
        "print(test_set.shape)"
      ]
    },
    {
      "cell_type": "code",
      "execution_count": null,
      "metadata": {
        "colab": {
          "base_uri": "https://localhost:8080/",
          "height": 472
        },
        "id": "S09ICpDv_1nq",
        "outputId": "0dce122b-19a1-4919-8bbc-647a81a4becd"
      },
      "outputs": [
        {
          "data": {
            "image/png": "[encoded data removed]",
            "text/plain": [
              "<Figure size 640x480 with 1 Axes>"
            ]
          },
          "metadata": {},
          "output_type": "display_data"
        }
      ],
      "source": [
        "plt.plot(test_set[:60], color = 'red', label = 'Real SBI Stock Price')\n",
        "plt.plot(predicted_stock_price, color = 'blue', label = 'Predicted SBI Stock Price')\n",
        "plt.title('SBI Stock Price Prediction')\n",
        "plt.xlabel('Time')\n",
        "plt.ylabel('SBI Stock Price')\n",
        "plt.legend()\n",
        "plt.show()"
      ]
    },
    {
      "cell_type": "code",
      "execution_count": null,
      "metadata": {
        "colab": {
          "base_uri": "https://localhost:8080/"
        },
        "id": "LSLmZlU-_1nq",
        "outputId": "ca562707-b4b5-4b17-f2e1-18d436f52cc8"
      },
      "outputs": [
        {
          "name": "stderr",
          "output_type": "stream",
          "text": [
            "/usr/local/lib/python3.10/dist-packages/keras/src/engine/training.py:3103: UserWarning: You are saving your model as an HDF5 file via `model.save()`. This file format is considered legacy. We recommend using instead the native Keras format, e.g. `model.save('my_model.keras')`.\n",
            "  saving_api.save_model(\n"
          ]
        }
      ],
      "source": [
        "regressor.save('SBI_model.h5')"
      ]
    },
    {
      "cell_type": "markdown",
      "metadata": {
        "id": "DxyC9ZnOBBAr"
      },
      "source": [
        "HDFC"
      ]
    },
    {
      "cell_type": "code",
      "execution_count": null,
      "metadata": {
        "id": "TJwYiNziBMHa"
      },
      "outputs": [],
      "source": [
        "stock = \"HDFCBANK.NS\"\n",
        "ticker = yf.Ticker(stock)\n",
        "dataset = ticker.history(period = \"max\").iloc[:, 0:1].values"
      ]
    },
    {
      "cell_type": "code",
      "execution_count": null,
      "metadata": {
        "id": "gl2yOyvrBMHg"
      },
      "outputs": [],
      "source": [
        "training_set = dataset[:int(0.8 * dataset.shape[0])]\n",
        "test_set = dataset[int(0.8 * dataset.shape[0]):]"
      ]
    },
    {
      "cell_type": "code",
      "execution_count": null,
      "metadata": {
        "id": "XvO7HtbEBMHh"
      },
      "outputs": [],
      "source": [
        "from sklearn.preprocessing import MinMaxScaler\n",
        "sc = MinMaxScaler(feature_range = (0, 1))\n",
        "training_set_scaled = sc.fit_transform(training_set)"
      ]
    },
    {
      "cell_type": "code",
      "execution_count": null,
      "metadata": {
        "id": "T6SIeg3MBMHh"
      },
      "outputs": [],
      "source": [
        "X_train = []\n",
        "y_train = []\n",
        "for i in range(60, training_set_scaled.shape[0]):\n",
        "    X_train.append(training_set_scaled[i - 60 : i, 0])\n",
        "    y_train.append(training_set_scaled[i, 0])\n",
        "\n",
        "X_train, y_train = np.array(X_train), np.array(y_train)"
      ]
    },
    {
      "cell_type": "code",
      "execution_count": null,
      "metadata": {
        "id": "i0ibvJKPBMHh"
      },
      "outputs": [],
      "source": [
        "X_train = np.reshape(X_train, (X_train.shape[0], X_train.shape[1], 1))"
      ]
    },
    {
      "cell_type": "code",
      "execution_count": null,
      "metadata": {
        "id": "XXKqyc63BMHh"
      },
      "outputs": [],
      "source": [
        "from keras.models import Sequential\n",
        "from keras.layers import Dense\n",
        "from keras.layers import LSTM\n",
        "from keras.layers import Dropout"
      ]
    },
    {
      "cell_type": "code",
      "execution_count": null,
      "metadata": {
        "id": "0tfj2C0mBMHi"
      },
      "outputs": [],
      "source": [
        "regressor = Sequential()\n",
        "regressor.add(LSTM(units = 64, return_sequences = True, input_shape = (X_train.shape[1], 1)))\n",
        "regressor.add(Dropout(0.2))\n",
        "#regressor.add(LSTM(units = 64, return_sequences = True))\n",
        "#regressor.add(Dropout(0.2))\n",
        "#regressor.add(LSTM(units = 32, return_sequences = True))\n",
        "#regressor.add(Dropout(0.2))\n",
        "regressor.add(LSTM(units = 64))\n",
        "regressor.add(Dropout(0.2))\n",
        "regressor.add(Dense(units = 1))"
      ]
    },
    {
      "cell_type": "code",
      "execution_count": null,
      "metadata": {
        "id": "asAdRFIkBMHi"
      },
      "outputs": [],
      "source": [
        "regressor.compile(optimizer = 'adam', loss = 'mean_squared_error')"
      ]
    },
    {
      "cell_type": "code",
      "execution_count": null,
      "metadata": {
        "colab": {
          "base_uri": "https://localhost:8080/"
        },
        "id": "qPHf4GxDBMHi",
        "outputId": "d042c5c6-6283-4d32-9b64-f85bae7a8c63"
      },
      "outputs": [
        {
          "name": "stdout",
          "output_type": "stream",
          "text": [
            "Epoch 1/10\n",
            "178/178 [==============================] - 15s 65ms/step - loss: 0.0025\n",
            "Epoch 2/10\n",
            "178/178 [==============================] - 13s 75ms/step - loss: 7.1553e-04\n",
            "Epoch 3/10\n",
            "178/178 [==============================] - 11s 63ms/step - loss: 6.4738e-04\n",
            "Epoch 4/10\n",
            "178/178 [==============================] - 11s 62ms/step - loss: 6.7898e-04\n",
            "Epoch 5/10\n",
            "178/178 [==============================] - 10s 58ms/step - loss: 5.3825e-04\n",
            "Epoch 6/10\n",
            "178/178 [==============================] - 11s 61ms/step - loss: 5.3074e-04\n",
            "Epoch 7/10\n",
            "178/178 [==============================] - 11s 64ms/step - loss: 5.0243e-04\n",
            "Epoch 8/10\n",
            "178/178 [==============================] - 11s 64ms/step - loss: 5.6289e-04\n",
            "Epoch 9/10\n",
            "178/178 [==============================] - 11s 63ms/step - loss: 4.7547e-04\n",
            "Epoch 10/10\n",
            "178/178 [==============================] - 11s 61ms/step - loss: 4.4266e-04\n"
          ]
        },
        {
          "data": {
            "text/plain": [
              "<keras.src.callbacks.History at 0x7e1c555731f0>"
            ]
          },
          "execution_count": 52,
          "metadata": {},
          "output_type": "execute_result"
        }
      ],
      "source": [
        "regressor.fit(X_train, y_train, epochs = 10, batch_size = 32)"
      ]
    },
    {
      "cell_type": "code",
      "execution_count": null,
      "metadata": {
        "id": "oe7KEB8NBMHi"
      },
      "outputs": [],
      "source": [
        "inputs = dataset[len(dataset) - len(test_set) - 60:]\n",
        "inputs = sc.transform(inputs)\n",
        "X_test = []\n",
        "for i in range(60, 120):\n",
        "    X_test.append(inputs[i - 60:i, 0])\n",
        "X_test = np.array(X_test)\n",
        "X_test = np.reshape(X_test, (X_test.shape[0], X_test.shape[1], 1))"
      ]
    },
    {
      "cell_type": "code",
      "execution_count": null,
      "metadata": {
        "colab": {
          "base_uri": "https://localhost:8080/"
        },
        "id": "rEUzm3XIBMHi",
        "outputId": "a1cdc691-9504-498a-ba1d-1fd520f308ef"
      },
      "outputs": [
        {
          "name": "stdout",
          "output_type": "stream",
          "text": [
            "2/2 [==============================] - 1s 18ms/step\n"
          ]
        }
      ],
      "source": [
        "predicted_stock_price = regressor.predict(X_test)\n",
        "predicted_stock_price = sc.inverse_transform(predicted_stock_price)"
      ]
    },
    {
      "cell_type": "code",
      "execution_count": null,
      "metadata": {
        "colab": {
          "base_uri": "https://localhost:8080/"
        },
        "id": "CDe7UfV0BMHi",
        "outputId": "57ef531b-8873-4f36-b68e-7e6cfe686ea7"
      },
      "outputs": [
        {
          "name": "stdout",
          "output_type": "stream",
          "text": [
            "(60, 1)\n",
            "(1435, 1)\n"
          ]
        }
      ],
      "source": [
        "print(predicted_stock_price.shape)\n",
        "print(test_set.shape)"
      ]
    },
    {
      "cell_type": "code",
      "execution_count": null,
      "metadata": {
        "colab": {
          "base_uri": "https://localhost:8080/",
          "height": 472
        },
        "id": "9cE6Pd01BMHj",
        "outputId": "4bb267c0-fdc2-405e-e296-e453b2547225"
      },
      "outputs": [
        {
          "data": {
            "image/png": "[encoded data removed]",
            "text/plain": [
              "<Figure size 640x480 with 1 Axes>"
            ]
          },
          "metadata": {},
          "output_type": "display_data"
        }
      ],
      "source": [
        "plt.plot(test_set[:60], color = 'red', label = 'Real HDFC Stock Price')\n",
        "plt.plot(predicted_stock_price, color = 'blue', label = 'Predicted HDFC Price')\n",
        "plt.title('HDFC Stock Price Prediction')\n",
        "plt.xlabel('Time')\n",
        "plt.ylabel('HDFC Stock Price')\n",
        "plt.legend()\n",
        "plt.show()"
      ]
    },
    {
      "cell_type": "code",
      "execution_count": null,
      "metadata": {
        "colab": {
          "base_uri": "https://localhost:8080/"
        },
        "id": "dIhlnEmtBMHj",
        "outputId": "d2668b4e-a438-4df7-87c9-ee0899d7687a"
      },
      "outputs": [
        {
          "name": "stderr",
          "output_type": "stream",
          "text": [
            "/usr/local/lib/python3.10/dist-packages/keras/src/engine/training.py:3103: UserWarning: You are saving your model as an HDF5 file via `model.save()`. This file format is considered legacy. We recommend using instead the native Keras format, e.g. `model.save('my_model.keras')`.\n",
            "  saving_api.save_model(\n"
          ]
        }
      ],
      "source": [
        "regressor.save('HDFC_model.h5')"
      ]
    },
    {
      "cell_type": "markdown",
      "metadata": {
        "id": "QyPB8Vl6CKV7"
      },
      "source": [
        "TCS"
      ]
    },
    {
      "cell_type": "code",
      "execution_count": null,
      "metadata": {
        "id": "2ckzvH_wCTdl"
      },
      "outputs": [],
      "source": [
        "stock = \"TCS.NS\"\n",
        "ticker = yf.Ticker(stock)\n",
        "dataset = ticker.history(period = \"max\").iloc[:, 0:1].values"
      ]
    },
    {
      "cell_type": "code",
      "execution_count": null,
      "metadata": {
        "id": "kEfvJRyKCTdt"
      },
      "outputs": [],
      "source": [
        "training_set = dataset[:int(0.8 * dataset.shape[0])]\n",
        "test_set = dataset[int(0.8 * dataset.shape[0]):]"
      ]
    },
    {
      "cell_type": "code",
      "execution_count": null,
      "metadata": {
        "id": "oQBK0kRqCTdt"
      },
      "outputs": [],
      "source": [
        "from sklearn.preprocessing import MinMaxScaler\n",
        "sc = MinMaxScaler(feature_range = (0, 1))\n",
        "training_set_scaled = sc.fit_transform(training_set)"
      ]
    },
    {
      "cell_type": "code",
      "execution_count": null,
      "metadata": {
        "id": "GROXINK-CTdt"
      },
      "outputs": [],
      "source": [
        "X_train = []\n",
        "y_train = []\n",
        "for i in range(60, training_set_scaled.shape[0]):\n",
        "    X_train.append(training_set_scaled[i - 60 : i, 0])\n",
        "    y_train.append(training_set_scaled[i, 0])\n",
        "\n",
        "X_train, y_train = np.array(X_train), np.array(y_train)"
      ]
    },
    {
      "cell_type": "code",
      "execution_count": null,
      "metadata": {
        "id": "hespROZjCTdt"
      },
      "outputs": [],
      "source": [
        "X_train = np.reshape(X_train, (X_train.shape[0], X_train.shape[1], 1))"
      ]
    },
    {
      "cell_type": "code",
      "execution_count": null,
      "metadata": {
        "id": "oVd1JpIoCTdt"
      },
      "outputs": [],
      "source": [
        "from keras.models import Sequential\n",
        "from keras.layers import Dense\n",
        "from keras.layers import LSTM\n",
        "from keras.layers import Dropout"
      ]
    },
    {
      "cell_type": "code",
      "execution_count": null,
      "metadata": {
        "id": "zMrKrd1dCTdu"
      },
      "outputs": [],
      "source": [
        "regressor = Sequential()\n",
        "regressor.add(LSTM(units = 64, return_sequences = True, input_shape = (X_train.shape[1], 1)))\n",
        "regressor.add(Dropout(0.2))\n",
        "#regressor.add(LSTM(units = 64, return_sequences = True))\n",
        "#regressor.add(Dropout(0.2))\n",
        "#regressor.add(LSTM(units = 32, return_sequences = True))\n",
        "#regressor.add(Dropout(0.2))\n",
        "regressor.add(LSTM(units = 64))\n",
        "regressor.add(Dropout(0.2))\n",
        "regressor.add(Dense(units = 1))"
      ]
    },
    {
      "cell_type": "code",
      "execution_count": null,
      "metadata": {
        "id": "pEyc5xYpCTdu"
      },
      "outputs": [],
      "source": [
        "regressor.compile(optimizer = 'adam', loss = 'mean_squared_error')"
      ]
    },
    {
      "cell_type": "code",
      "execution_count": null,
      "metadata": {
        "colab": {
          "base_uri": "https://localhost:8080/"
        },
        "id": "imnMxiNzCTdu",
        "outputId": "e194b754-76a6-4c38-e53f-5d300adc1534"
      },
      "outputs": [
        {
          "name": "stdout",
          "output_type": "stream",
          "text": [
            "Epoch 1/10\n",
            "135/135 [==============================] - 13s 63ms/step - loss: 0.0049\n",
            "Epoch 2/10\n",
            "135/135 [==============================] - 9s 65ms/step - loss: 0.0012\n",
            "Epoch 3/10\n",
            "135/135 [==============================] - 7s 55ms/step - loss: 0.0011\n",
            "Epoch 4/10\n",
            "135/135 [==============================] - 9s 67ms/step - loss: 0.0011\n",
            "Epoch 5/10\n",
            "135/135 [==============================] - 8s 63ms/step - loss: 0.0011\n",
            "Epoch 6/10\n",
            "135/135 [==============================] - 8s 58ms/step - loss: 0.0010\n",
            "Epoch 7/10\n",
            "135/135 [==============================] - 9s 65ms/step - loss: 8.9618e-04\n",
            "Epoch 8/10\n",
            "135/135 [==============================] - 7s 55ms/step - loss: 9.0177e-04\n",
            "Epoch 9/10\n",
            "135/135 [==============================] - 9s 65ms/step - loss: 8.3119e-04\n",
            "Epoch 10/10\n",
            "135/135 [==============================] - 9s 67ms/step - loss: 8.3553e-04\n"
          ]
        },
        {
          "data": {
            "text/plain": [
              "<keras.src.callbacks.History at 0x7e1c5438a680>"
            ]
          },
          "execution_count": 66,
          "metadata": {},
          "output_type": "execute_result"
        }
      ],
      "source": [
        "regressor.fit(X_train, y_train, epochs = 10, batch_size = 32)"
      ]
    },
    {
      "cell_type": "code",
      "execution_count": null,
      "metadata": {
        "id": "X3Un2UH6CTdu"
      },
      "outputs": [],
      "source": [
        "inputs = dataset[len(dataset) - len(test_set) - 60:]\n",
        "inputs = sc.transform(inputs)\n",
        "X_test = []\n",
        "for i in range(60, 120):\n",
        "    X_test.append(inputs[i - 60:i, 0])\n",
        "X_test = np.array(X_test)\n",
        "X_test = np.reshape(X_test, (X_test.shape[0], X_test.shape[1], 1))"
      ]
    },
    {
      "cell_type": "code",
      "execution_count": null,
      "metadata": {
        "id": "ELOvrNI3CTdu"
      },
      "outputs": [],
      "source": [
        "predicted_stock_price = regressor.predict(X_test)\n",
        "predicted_stock_price = sc.inverse_transform(predicted_stock_price)"
      ]
    },
    {
      "cell_type": "code",
      "execution_count": null,
      "metadata": {
        "id": "9-TQUJtGCTdu"
      },
      "outputs": [],
      "source": [
        "print(predicted_stock_price.shape)\n",
        "print(test_set.shape)"
      ]
    },
    {
      "cell_type": "code",
      "execution_count": null,
      "metadata": {
        "id": "ZRB3zfXlCTdu"
      },
      "outputs": [],
      "source": [
        "plt.plot(test_set[:60], color = 'red', label = 'Real TCS Stock Price')\n",
        "plt.plot(predicted_stock_price, color = 'blue', label = 'Predicted TCS Stock Price')\n",
        "plt.title('TCS Stock Price Prediction')\n",
        "plt.xlabel('Time')\n",
        "plt.ylabel('TCS Stock Price')\n",
        "plt.legend()\n",
        "plt.show()"
      ]
    },
    {
      "cell_type": "code",
      "execution_count": null,
      "metadata": {
        "id": "eZ80oTTfCTdv"
      },
      "outputs": [],
      "source": [
        "regressor.save('TCS_model.h5')"
      ]
    },
    {
      "cell_type": "markdown",
      "metadata": {
        "id": "2F0GkGN4QlDI"
      },
      "source": [
        "Adani ENT"
      ]
    },
    {
      "cell_type": "code",
      "execution_count": null,
      "metadata": {
        "id": "Nuy95pUDJA9A"
      },
      "outputs": [],
      "source": [
        "stock = \"ADANIENT.NS\"\n",
        "ticker = yf.Ticker(stock)\n",
        "dataset = ticker.history(period = \"max\").iloc[:, 0:1].values"
      ]
    },
    {
      "cell_type": "code",
      "execution_count": null,
      "metadata": {
        "id": "zF6A5PcGJA9K"
      },
      "outputs": [],
      "source": [
        "training_set = dataset[:int(0.8 * dataset.shape[0])]\n",
        "test_set = dataset[int(0.8 * dataset.shape[0]):]"
      ]
    },
    {
      "cell_type": "code",
      "execution_count": null,
      "metadata": {
        "id": "d-tg3fzCJA9L"
      },
      "outputs": [],
      "source": [
        "from sklearn.preprocessing import MinMaxScaler\n",
        "sc = MinMaxScaler(feature_range = (0, 1))\n",
        "training_set_scaled = sc.fit_transform(training_set)"
      ]
    },
    {
      "cell_type": "code",
      "execution_count": null,
      "metadata": {
        "id": "TQoWykpzJA9L"
      },
      "outputs": [],
      "source": [
        "X_train = []\n",
        "y_train = []\n",
        "for i in range(60, training_set_scaled.shape[0]):\n",
        "    X_train.append(training_set_scaled[i - 60 : i, 0])\n",
        "    y_train.append(training_set_scaled[i, 0])\n",
        "\n",
        "X_train, y_train = np.array(X_train), np.array(y_train)"
      ]
    },
    {
      "cell_type": "code",
      "execution_count": null,
      "metadata": {
        "id": "P9U7DgOTJA9L"
      },
      "outputs": [],
      "source": [
        "X_train = np.reshape(X_train, (X_train.shape[0], X_train.shape[1], 1))"
      ]
    },
    {
      "cell_type": "code",
      "execution_count": null,
      "metadata": {
        "id": "8z3QYz8XJA9L"
      },
      "outputs": [],
      "source": [
        "from keras.models import Sequential\n",
        "from keras.layers import Dense\n",
        "from keras.layers import LSTM\n",
        "from keras.layers import Dropout"
      ]
    },
    {
      "cell_type": "code",
      "execution_count": null,
      "metadata": {
        "id": "rCwvWiyDJA9M"
      },
      "outputs": [],
      "source": [
        "regressor = Sequential()\n",
        "regressor.add(LSTM(units = 64, return_sequences = True, input_shape = (X_train.shape[1], 1)))\n",
        "regressor.add(Dropout(0.2))\n",
        "#regressor.add(LSTM(units = 64, return_sequences = True))\n",
        "#regressor.add(Dropout(0.2))\n",
        "#regressor.add(LSTM(units = 32, return_sequences = True))\n",
        "#regressor.add(Dropout(0.2))\n",
        "regressor.add(LSTM(units = 64))\n",
        "regressor.add(Dropout(0.2))\n",
        "regressor.add(Dense(units = 1))"
      ]
    },
    {
      "cell_type": "code",
      "execution_count": null,
      "metadata": {
        "id": "3NEsFHvDJA9M"
      },
      "outputs": [],
      "source": [
        "regressor.compile(optimizer = 'adam', loss = 'mean_squared_error')"
      ]
    },
    {
      "cell_type": "code",
      "execution_count": null,
      "metadata": {
        "colab": {
          "background_save": true
        },
        "id": "Z9s8oKCiJA9M",
        "outputId": "aeae8d3a-3c6f-474a-ee09-58b4c66b036d"
      },
      "outputs": [
        {
          "name": "stdout",
          "output_type": "stream",
          "text": [
            "Epoch 1/10\n",
            "135/135 [==============================] - 12s 57ms/step - loss: 0.0023\n",
            "Epoch 2/10\n",
            "135/135 [==============================] - 6s 46ms/step - loss: 8.3326e-04\n",
            "Epoch 3/10\n",
            "135/135 [==============================] - 8s 56ms/step - loss: 7.7295e-04\n",
            "Epoch 4/10\n",
            "135/135 [==============================] - 6s 45ms/step - loss: 6.8755e-04\n",
            "Epoch 5/10\n",
            "135/135 [==============================] - 7s 56ms/step - loss: 6.1238e-04\n",
            "Epoch 6/10\n",
            "135/135 [==============================] - 6s 45ms/step - loss: 5.8365e-04\n",
            "Epoch 7/10\n",
            "135/135 [==============================] - 8s 56ms/step - loss: 5.0632e-04\n",
            "Epoch 8/10\n",
            "135/135 [==============================] - 6s 46ms/step - loss: 6.1065e-04\n",
            "Epoch 9/10\n",
            "135/135 [==============================] - 8s 57ms/step - loss: 5.1898e-04\n",
            "Epoch 10/10\n",
            "135/135 [==============================] - 6s 46ms/step - loss: 5.2676e-04\n"
          ]
        },
        {
          "data": {
            "text/plain": [
              "<keras.src.callbacks.History at 0x7e1c5fd76890>"
            ]
          },
          "execution_count": 80,
          "metadata": {},
          "output_type": "execute_result"
        }
      ],
      "source": [
        "regressor.fit(X_train, y_train, epochs = 10, batch_size = 32)"
      ]
    },
    {
      "cell_type": "code",
      "execution_count": null,
      "metadata": {
        "colab": {
          "background_save": true
        },
        "id": "s_1VdHlUJA9M"
      },
      "outputs": [],
      "source": [
        "inputs = dataset[len(dataset) - len(test_set) - 60:]\n",
        "inputs = sc.transform(inputs)\n",
        "X_test = []\n",
        "for i in range(60, 120):\n",
        "    X_test.append(inputs[i - 60:i, 0])\n",
        "X_test = np.array(X_test)\n",
        "X_test = np.reshape(X_test, (X_test.shape[0], X_test.shape[1], 1))"
      ]
    },
    {
      "cell_type": "code",
      "execution_count": null,
      "metadata": {
        "colab": {
          "background_save": true
        },
        "id": "zvLOFDj_JA9M",
        "outputId": "a0d7a693-af30-4e4f-a1ae-4c58670c864c"
      },
      "outputs": [
        {
          "name": "stderr",
          "output_type": "stream",
          "text": [
            "WARNING:tensorflow:6 out of the last 11 calls to <function Model.make_predict_function.<locals>.predict_function at 0x7e1c5eee3d90> triggered tf.function retracing. Tracing is expensive and the excessive number of tracings could be due to (1) creating @tf.function repeatedly in a loop, (2) passing tensors with different shapes, (3) passing Python objects instead of tensors. For (1), please define your @tf.function outside of the loop. For (2), @tf.function has reduce_retracing=True option that can avoid unnecessary retracing. For (3), please refer to https://www.tensorflow.org/guide/function#controlling_retracing and https://www.tensorflow.org/api_docs/python/tf/function for  more details.\n"
          ]
        },
        {
          "name": "stdout",
          "output_type": "stream",
          "text": [
            "2/2 [==============================] - 1s 33ms/step\n"
          ]
        }
      ],
      "source": [
        "predicted_stock_price = regressor.predict(X_test)\n",
        "predicted_stock_price = sc.inverse_transform(predicted_stock_price)"
      ]
    },
    {
      "cell_type": "code",
      "execution_count": null,
      "metadata": {
        "colab": {
          "background_save": true
        },
        "id": "cUdRzciGJA9N",
        "outputId": "a9fef9b1-868c-4e97-c6c7-40ff68738484"
      },
      "outputs": [
        {
          "name": "stdout",
          "output_type": "stream",
          "text": [
            "(60, 1)\n",
            "(1096, 1)\n"
          ]
        }
      ],
      "source": [
        "print(predicted_stock_price.shape)\n",
        "print(test_set.shape)"
      ]
    },
    {
      "cell_type": "code",
      "execution_count": null,
      "metadata": {
        "colab": {
          "background_save": true
        },
        "id": "edTg1TB1JA9N",
        "outputId": "d325fc1f-3f61-4672-a4b7-e8049f0f0fa3"
      },
      "outputs": [
        {
          "data": {
            "image/png": "[encoded data removed]",
            "text/plain": [
              "<Figure size 640x480 with 1 Axes>"
            ]
          },
          "metadata": {},
          "output_type": "display_data"
        }
      ],
      "source": [
        "plt.plot(test_set[:60], color = 'red', label = 'Real Adani Enterprises Stock Price')\n",
        "plt.plot(predicted_stock_price, color = 'blue', label = 'Predicted Adani Enterprises Stock Price')\n",
        "plt.title('Adani Enterprises Stock Price Prediction')\n",
        "plt.xlabel('Time')\n",
        "plt.ylabel('Adani Enterprises Stock Price')\n",
        "plt.legend()\n",
        "plt.show()"
      ]
    },
    {
      "cell_type": "code",
      "execution_count": null,
      "metadata": {
        "colab": {
          "background_save": true
        },
        "id": "tiAOZX_BJA9N",
        "outputId": "c54042f2-14fe-4c1f-d0df-081a27beef08"
      },
      "outputs": [
        {
          "name": "stderr",
          "output_type": "stream",
          "text": [
            "/usr/local/lib/python3.10/dist-packages/keras/src/engine/training.py:3103: UserWarning: You are saving your model as an HDF5 file via `model.save()`. This file format is considered legacy. We recommend using instead the native Keras format, e.g. `model.save('my_model.keras')`.\n",
            "  saving_api.save_model(\n"
          ]
        }
      ],
      "source": [
        "regressor.save('AdaniENT_model.h5')"
      ]
    },
    {
      "cell_type": "markdown",
      "metadata": {
        "id": "zorDfvL6I_Jj"
      },
      "source": [
        "Example"
      ]
    },
    {
      "cell_type": "code",
      "execution_count": null,
      "metadata": {
        "colab": {
          "background_save": true
        },
        "id": "HMlzJGgvuSpH"
      },
      "outputs": [],
      "source": [
        "stock = \"AAPL\"\n",
        "ticker = yf.Ticker(stock)\n",
        "dataset = ticker.history(period = \"max\").iloc[:, 0:1].values"
      ]
    },
    {
      "cell_type": "code",
      "execution_count": null,
      "metadata": {
        "colab": {
          "background_save": true
        },
        "id": "VaA6bNVQQm-s"
      },
      "outputs": [],
      "source": []
    },
    {
      "cell_type": "code",
      "execution_count": null,
      "metadata": {
        "colab": {
          "background_save": true
        },
        "id": "dJcGsVU0THC-"
      },
      "outputs": [],
      "source": [
        "training_set = dataset[:int(0.8 * dataset.shape[0])]\n",
        "test_set = dataset[int(0.8 * dataset.shape[0]):]"
      ]
    },
    {
      "cell_type": "code",
      "execution_count": null,
      "metadata": {
        "colab": {
          "background_save": true
        },
        "id": "7AxCRl8W78eQ"
      },
      "outputs": [],
      "source": [
        "from sklearn.preprocessing import MinMaxScaler\n",
        "sc = MinMaxScaler(feature_range = (0, 1))\n",
        "training_set_scaled = sc.fit_transform(training_set)"
      ]
    },
    {
      "cell_type": "code",
      "execution_count": null,
      "metadata": {
        "colab": {
          "background_save": true
        },
        "id": "HRlfanAeAzV3"
      },
      "outputs": [],
      "source": [
        "X_train = []\n",
        "y_train = []\n",
        "for i in range(60, training_set_scaled.shape[0]):\n",
        "    X_train.append(training_set_scaled[i - 60 : i, 0])\n",
        "    y_train.append(training_set_scaled[i, 0])\n",
        "\n",
        "X_train, y_train = np.array(X_train), np.array(y_train)"
      ]
    },
    {
      "cell_type": "code",
      "execution_count": null,
      "metadata": {
        "colab": {
          "background_save": true
        },
        "id": "aSIcyYVrBOWp"
      },
      "outputs": [],
      "source": [
        "X_train = np.reshape(X_train, (X_train.shape[0], X_train.shape[1], 1))"
      ]
    },
    {
      "cell_type": "markdown",
      "metadata": {
        "id": "bPQxHMxyZwCf"
      },
      "source": [
        "# Training the Model"
      ]
    },
    {
      "cell_type": "code",
      "execution_count": null,
      "metadata": {
        "colab": {
          "background_save": true
        },
        "id": "UWT0whqsBTmN"
      },
      "outputs": [],
      "source": [
        "from keras.models import Sequential\n",
        "from keras.layers import Dense\n",
        "from keras.layers import LSTM\n",
        "from keras.layers import Dropout"
      ]
    },
    {
      "cell_type": "code",
      "execution_count": null,
      "metadata": {
        "colab": {
          "background_save": true
        },
        "id": "Ahrf8VgCBVLt"
      },
      "outputs": [],
      "source": [
        "regressor = Sequential()\n",
        "regressor.add(LSTM(units = 32, return_sequences = True, input_shape = (X_train.shape[1], 1)))\n",
        "regressor.add(Dropout(0.2))\n",
        "regressor.add(LSTM(units = 32, return_sequences = True))\n",
        "regressor.add(Dropout(0.2))\n",
        "# regressor.add(LSTM(units = 32, return_sequences = True))\n",
        "# regressor.add(Dropout(0.2))\n",
        "regressor.add(LSTM(units = 32))\n",
        "regressor.add(Dropout(0.2))\n",
        "regressor.add(Dense(units = 1))"
      ]
    },
    {
      "cell_type": "code",
      "execution_count": null,
      "metadata": {
        "colab": {
          "background_save": true
        },
        "id": "sHJE__4qBcD3"
      },
      "outputs": [],
      "source": [
        "regressor.compile(optimizer = 'adam', loss = 'mean_squared_error')"
      ]
    },
    {
      "cell_type": "code",
      "execution_count": null,
      "metadata": {
        "colab": {
          "background_save": true
        },
        "id": "1kHRY00yBen9",
        "outputId": "595e6150-123a-4d1a-f94b-f832eed1b950"
      },
      "outputs": [
        {
          "name": "stdout",
          "output_type": "stream",
          "text": [
            "Epoch 1/10\n",
            "273/273 [==============================] - 25s 71ms/step - loss: 0.0031\n",
            "Epoch 2/10\n",
            "273/273 [==============================] - 18s 67ms/step - loss: 8.5122e-04\n",
            "Epoch 3/10\n",
            "273/273 [==============================] - 18s 68ms/step - loss: 8.3132e-04\n",
            "Epoch 4/10\n",
            "273/273 [==============================] - 19s 70ms/step - loss: 7.5065e-04\n",
            "Epoch 5/10\n",
            "273/273 [==============================] - 18s 67ms/step - loss: 6.5131e-04\n",
            "Epoch 6/10\n",
            "273/273 [==============================] - 19s 71ms/step - loss: 7.0359e-04\n",
            "Epoch 7/10\n",
            "273/273 [==============================] - 18s 67ms/step - loss: 7.0991e-04\n",
            "Epoch 8/10\n",
            "273/273 [==============================] - 20s 72ms/step - loss: 6.5425e-04\n",
            "Epoch 9/10\n",
            "273/273 [==============================] - 18s 67ms/step - loss: 6.4067e-04\n",
            "Epoch 10/10\n",
            "273/273 [==============================] - 19s 68ms/step - loss: 7.0698e-04\n"
          ]
        },
        {
          "data": {
            "text/plain": [
              "<keras.src.callbacks.History at 0x7e1c5f810e80>"
            ]
          },
          "execution_count": 94,
          "metadata": {},
          "output_type": "execute_result"
        }
      ],
      "source": [
        "regressor.fit(X_train, y_train, epochs = 10, batch_size = 32)"
      ]
    },
    {
      "cell_type": "markdown",
      "metadata": {
        "id": "SYflGjoldLar"
      },
      "source": [
        "# Testing the Model"
      ]
    },
    {
      "cell_type": "code",
      "execution_count": null,
      "metadata": {
        "colab": {
          "background_save": true
        },
        "id": "xo97m-1Zd9f2"
      },
      "outputs": [],
      "source": [
        "inputs = dataset[len(dataset) - len(test_set) - 60:]\n",
        "inputs = sc.transform(inputs)\n",
        "X_test = []\n",
        "for i in range(60, 120):\n",
        "    X_test.append(inputs[i - 60:i, 0])\n",
        "X_test = np.array(X_test)\n",
        "X_test = np.reshape(X_test, (X_test.shape[0], X_test.shape[1], 1))"
      ]
    },
    {
      "cell_type": "code",
      "execution_count": null,
      "metadata": {
        "colab": {
          "background_save": true
        },
        "id": "q74CScbFeD2d",
        "outputId": "eac87271-6348-47a4-e9be-5f44126d6948"
      },
      "outputs": [
        {
          "name": "stdout",
          "output_type": "stream",
          "text": [
            "2/2 [==============================] - 1s 18ms/step\n"
          ]
        }
      ],
      "source": [
        "predicted_stock_price = regressor.predict(X_test)\n",
        "predicted_stock_price = sc.inverse_transform(predicted_stock_price)"
      ]
    },
    {
      "cell_type": "code",
      "execution_count": null,
      "metadata": {
        "colab": {
          "background_save": true
        },
        "id": "P96JMgWefbyd",
        "outputId": "86818f61-ec76-406d-c223-5349b019828d"
      },
      "outputs": [
        {
          "name": "stdout",
          "output_type": "stream",
          "text": [
            "(60, 1)\n",
            "(2199, 1)\n"
          ]
        }
      ],
      "source": [
        "print(predicted_stock_price.shape)\n",
        "print(test_set.shape)"
      ]
    },
    {
      "cell_type": "code",
      "execution_count": null,
      "metadata": {
        "colab": {
          "background_save": true
        },
        "id": "-stLmWeLeEyR",
        "outputId": "e1509001-fcea-46f1-b496-79dd87bde7f1"
      },
      "outputs": [
        {
          "data": {
            "image/png": "[encoded data removed]",
            "text/plain": [
              "<Figure size 640x480 with 1 Axes>"
            ]
          },
          "metadata": {},
          "output_type": "display_data"
        }
      ],
      "source": [
        "plt.plot(test_set[:60], color = 'red', label = 'Real Google Stock Price')\n",
        "plt.plot(predicted_stock_price, color = 'blue', label = 'Predicted Google Stock Price')\n",
        "plt.title('Google Stock Price Prediction')\n",
        "plt.xlabel('Time')\n",
        "plt.ylabel('Google Stock Price')\n",
        "plt.legend()\n",
        "plt.show()"
      ]
    },
    {
      "cell_type": "code",
      "execution_count": null,
      "metadata": {
        "colab": {
          "background_save": true
        },
        "id": "tcvyXgOaqbf8",
        "outputId": "a329b18b-bac8-4ed8-8201-72fcf3086ce6"
      },
      "outputs": [
        {
          "data": {
            "text/plain": [
              "0.932485461850209"
            ]
          },
          "execution_count": 99,
          "metadata": {},
          "output_type": "execute_result"
        }
      ],
      "source": [
        "np.sum(np.abs(test_set[:60] - predicted_stock_price)) / 60"
      ]
    },
    {
      "cell_type": "code",
      "execution_count": null,
      "metadata": {
        "colab": {
          "background_save": true
        },
        "id": "pSnBlB4dOMe4",
        "outputId": "1d10116a-0aff-4bdd-d892-4ca849bc3388"
      },
      "outputs": [
        {
          "data": {
            "application/javascript": [
              "\n",
              "    async function download(id, filename, size) {\n",
              "      if (!google.colab.kernel.accessAllowed) {\n",
              "        return;\n",
              "      }\n",
              "      const div = document.createElement('div');\n",
              "      const label = document.createElement('label');\n",
              "      label.textContent = `Downloading \"${filename}\": `;\n",
              "      div.appendChild(label);\n",
              "      const progress = document.createElement('progress');\n",
              "      progress.max = size;\n",
              "      div.appendChild(progress);\n",
              "      document.body.appendChild(div);\n",
              "\n",
              "      const buffers = [];\n",
              "      let downloaded = 0;\n",
              "\n",
              "      const channel = await google.colab.kernel.comms.open(id);\n",
              "      // Send a message to notify the kernel that we're ready.\n",
              "      channel.send({})\n",
              "\n",
              "      for await (const message of channel.messages) {\n",
              "        // Send a message to notify the kernel that we're ready.\n",
              "        channel.send({})\n",
              "        if (message.buffers) {\n",
              "          for (const buffer of message.buffers) {\n",
              "            buffers.push(buffer);\n",
              "            downloaded += buffer.byteLength;\n",
              "            progress.value = downloaded;\n",
              "          }\n",
              "        }\n",
              "      }\n",
              "      const blob = new Blob(buffers, {type: 'application/binary'});\n",
              "      const a = document.createElement('a');\n",
              "      a.href = window.URL.createObjectURL(blob);\n",
              "      a.download = filename;\n",
              "      div.appendChild(a);\n",
              "      a.click();\n",
              "      div.remove();\n",
              "    }\n",
              "  "
            ],
            "text/plain": [
              "<IPython.core.display.Javascript object>"
            ]
          },
          "metadata": {},
          "output_type": "display_data"
        },
        {
          "data": {
            "application/javascript": [
              "download(\"download_4a49a315-4761-4230-bee8-dc08cda21e09\", \"SBI_model.h5\", 1052344)"
            ],
            "text/plain": [
              "<IPython.core.display.Javascript object>"
            ]
          },
          "metadata": {},
          "output_type": "display_data"
        }
      ],
      "source": [
        "from google.colab import files\n",
        "files.download('SBI_model.h5')"
      ]
    },
    {
      "cell_type": "code",
      "execution_count": null,
      "metadata": {
        "colab": {
          "background_save": true
        },
        "id": "8FTH0go6FrjJ",
        "outputId": "49fab62e-078d-45ab-9528-d2c8b20b3568"
      },
      "outputs": [
        {
          "data": {
            "application/javascript": [
              "\n",
              "    async function download(id, filename, size) {\n",
              "      if (!google.colab.kernel.accessAllowed) {\n",
              "        return;\n",
              "      }\n",
              "      const div = document.createElement('div');\n",
              "      const label = document.createElement('label');\n",
              "      label.textContent = `Downloading \"${filename}\": `;\n",
              "      div.appendChild(label);\n",
              "      const progress = document.createElement('progress');\n",
              "      progress.max = size;\n",
              "      div.appendChild(progress);\n",
              "      document.body.appendChild(div);\n",
              "\n",
              "      const buffers = [];\n",
              "      let downloaded = 0;\n",
              "\n",
              "      const channel = await google.colab.kernel.comms.open(id);\n",
              "      // Send a message to notify the kernel that we're ready.\n",
              "      channel.send({})\n",
              "\n",
              "      for await (const message of channel.messages) {\n",
              "        // Send a message to notify the kernel that we're ready.\n",
              "        channel.send({})\n",
              "        if (message.buffers) {\n",
              "          for (const buffer of message.buffers) {\n",
              "            buffers.push(buffer);\n",
              "            downloaded += buffer.byteLength;\n",
              "            progress.value = downloaded;\n",
              "          }\n",
              "        }\n",
              "      }\n",
              "      const blob = new Blob(buffers, {type: 'application/binary'});\n",
              "      const a = document.createElement('a');\n",
              "      a.href = window.URL.createObjectURL(blob);\n",
              "      a.download = filename;\n",
              "      div.appendChild(a);\n",
              "      a.click();\n",
              "      div.remove();\n",
              "    }\n",
              "  "
            ],
            "text/plain": [
              "<IPython.core.display.Javascript object>"
            ]
          },
          "metadata": {},
          "output_type": "display_data"
        },
        {
          "data": {
            "application/javascript": [
              "download(\"download_1612bd39-a379-4b55-898f-d1455652dbd9\", \"TCS_model.h5\", 644096)"
            ],
            "text/plain": [
              "<IPython.core.display.Javascript object>"
            ]
          },
          "metadata": {},
          "output_type": "display_data"
        }
      ],
      "source": [
        "files.download('TCS_model.h5')"
      ]
    },
    {
      "cell_type": "code",
      "execution_count": null,
      "metadata": {
        "colab": {
          "background_save": true
        },
        "id": "2Cqa3xl6Fwni"
      },
      "outputs": [],
      "source": [
        "from tensorflow import keras\n",
        "reconstructed_model = keras.models.load_model(\"SBI_model.h5\")"
      ]
    },
    {
      "cell_type": "code",
      "execution_count": null,
      "metadata": {
        "colab": {
          "background_save": true
        },
        "id": "LpM_h9JnJozl",
        "outputId": "36c6adac-2fe4-413c-8f9d-1b63f45e3bdb"
      },
      "outputs": [
        {
          "name": "stdout",
          "output_type": "stream",
          "text": [
            "2/2 [==============================] - 1s 23ms/step\n"
          ]
        },
        {
          "data": {
            "text/plain": [
              "array([[0.83413225],\n",
              "       [0.837051  ],\n",
              "       [0.8418488 ],\n",
              "       [0.84858006],\n",
              "       [0.8549574 ],\n",
              "       [0.8607978 ],\n",
              "       [0.8665784 ],\n",
              "       [0.873161  ],\n",
              "       [0.8799968 ],\n",
              "       [0.88640904],\n",
              "       [0.89304096],\n",
              "       [0.8990883 ],\n",
              "       [0.9037056 ],\n",
              "       [0.90662307],\n",
              "       [0.90591675],\n",
              "       [0.90188634],\n",
              "       [0.8956657 ],\n",
              "       [0.888042  ],\n",
              "       [0.8782848 ],\n",
              "       [0.8692483 ],\n",
              "       [0.86246043],\n",
              "       [0.8592268 ],\n",
              "       [0.8600234 ],\n",
              "       [0.8639607 ],\n",
              "       [0.86876464],\n",
              "       [0.8742169 ],\n",
              "       [0.8791681 ],\n",
              "       [0.882966  ],\n",
              "       [0.8858418 ],\n",
              "       [0.8871664 ],\n",
              "       [0.88672346],\n",
              "       [0.8843141 ],\n",
              "       [0.8824175 ],\n",
              "       [0.8808978 ],\n",
              "       [0.8798767 ],\n",
              "       [0.87851566],\n",
              "       [0.87636936],\n",
              "       [0.8721639 ],\n",
              "       [0.86630136],\n",
              "       [0.8592625 ],\n",
              "       [0.8524487 ],\n",
              "       [0.8451341 ],\n",
              "       [0.8370443 ],\n",
              "       [0.828906  ],\n",
              "       [0.8213998 ],\n",
              "       [0.81590396],\n",
              "       [0.81198245],\n",
              "       [0.8091323 ],\n",
              "       [0.807905  ],\n",
              "       [0.80733883],\n",
              "       [0.8049624 ],\n",
              "       [0.8022377 ],\n",
              "       [0.7972673 ],\n",
              "       [0.78964865],\n",
              "       [0.78035206],\n",
              "       [0.77085125],\n",
              "       [0.7629682 ],\n",
              "       [0.7572296 ],\n",
              "       [0.7525635 ],\n",
              "       [0.7479014 ]], dtype=float32)"
            ]
          },
          "execution_count": 103,
          "metadata": {},
          "output_type": "execute_result"
        }
      ],
      "source": [
        "reconstructed_model.predict(X_test)"
      ]
    },
    {
      "cell_type": "code",
      "execution_count": null,
      "metadata": {
        "colab": {
          "background_save": true
        },
        "id": "qEezYteIKMLi"
      },
      "outputs": [],
      "source": []
    }
  ],
  "metadata": {
    "colab": {
      "provenance": []
    },
    "kernelspec": {
      "display_name": "Python 3",
      "name": "python3"
    },
    "language_info": {
      "name": "python"
    }
  },
  "nbformat": 4,
  "nbformat_minor": 0
}